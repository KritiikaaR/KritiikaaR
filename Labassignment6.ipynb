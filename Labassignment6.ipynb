{
  "nbformat": 4,
  "nbformat_minor": 0,
  "metadata": {
    "colab": {
      "provenance": [],
      "collapsed_sections": [],
      "authorship_tag": "ABX9TyOZJEDuS61eG/ls4FPqAUr0",
      "include_colab_link": true
    },
    "kernelspec": {
      "name": "python3",
      "display_name": "Python 3"
    },
    "language_info": {
      "name": "python"
    }
  },
  "cells": [
    {
      "cell_type": "markdown",
      "metadata": {
        "id": "view-in-github",
        "colab_type": "text"
      },
      "source": [
        "<a href=\"https://colab.research.google.com/github/KritiikaaR/KritiikaaR/blob/main/Labassignment6.ipynb\" target=\"_parent\"><img src=\"https://colab.research.google.com/assets/colab-badge.svg\" alt=\"Open In Colab\"/></a>"
      ]
    },
    {
      "cell_type": "code",
      "execution_count": 14,
      "metadata": {
        "colab": {
          "base_uri": "https://localhost:8080/"
        },
        "id": "Ifbj7SxKS3du",
        "outputId": "4bf10460-0c91-4103-8ead-5a2b61ef4786"
      },
      "outputs": [
        {
          "name": "stdout",
          "output_type": "stream",
          "text": [
            "Enter a number: 16\n"
          ]
        },
        {
          "output_type": "execute_result",
          "data": {
            "text/plain": [
              "(11, 5)"
            ]
          },
          "metadata": {},
          "execution_count": 14
        }
      ],
      "source": [
        "#Answer of no.1\n",
        "def prime(n):     #function to find prime numbers upto n\n",
        "  if n==1 or n==0:\n",
        "    return False\n",
        "  for i in range(2,n):              \n",
        "    if (n%i==0):\n",
        "      return False\n",
        "  return True\n",
        "n=int(input(\"Enter a number: \"))\n",
        "lst=[]\n",
        "def prime_sum():           \n",
        " if n%2==0:\n",
        "  for i in range(2,n):\n",
        "   if(prime(i)==True):       \n",
        "    lst.append(i)     #adds to list the prime numbers upto n\n",
        "    for i in lst[0:len(lst)]:\n",
        "     for j in range(0,i+1):\n",
        "      if (i+j==n): #finds two prime numbers that add upto n\n",
        "       return(i,j) \n",
        " else:\n",
        "  print(\"Sorry,the number should be even!\") \n",
        "prime_sum()"
      ]
    },
    {
      "cell_type": "code",
      "source": [
        "#Answer of no.2\n",
        "lst=[1,0,3,0,4]\n",
        "new_lst=[]\n",
        "def move_zero(lst):\n",
        "  for element in lst:\n",
        "    if element==0:\n",
        "      lst.remove(element) #remove 0 from original list\n",
        "      new_lst.append(element)   #add 0 to ne list\n",
        "  print(lst+new_lst)     #join both list\n",
        "move_zero(lst)"
      ],
      "metadata": {
        "colab": {
          "base_uri": "https://localhost:8080/"
        },
        "id": "l1-lem0SAwNo",
        "outputId": "1e3e6c20-98cd-4edc-b6cb-b20a7711d0b0"
      },
      "execution_count": 111,
      "outputs": [
        {
          "output_type": "stream",
          "name": "stdout",
          "text": [
            "[1, 3, 4, 0, 0]\n"
          ]
        }
      ]
    },
    {
      "cell_type": "code",
      "source": [
        "#Answer of no.3\n",
        "def pattern_match(str,pattern,str_len,pat_len):\n",
        "    if(str_len<pat_len):\n",
        "        return False\n",
        "    if(str_len==0 and pat_len==0):      #if both length is equal,it matches\n",
        "        return True\n",
        "    if (str_len == 0 or pat_len == 0):  #if one of the length is zero,false\n",
        "        return False\n",
        "    if(str.find(' ')!=-1):\n",
        "        stringlst=str.split()        \n",
        "    else:\n",
        "        extracted_words = [[str[0]]]\n",
        "        for i in str[1:]:\n",
        "            if i.isupper() and extracted_words[-1][-1].islower():\n",
        "                extracted_words.append(list(i))\n",
        "            else:\n",
        "                extracted_words[-1].append(i)\n",
        "        stringlst=[''.join(word) for word in extracted_words]\n",
        "    patlist = []\n",
        "    for i in pattern:\n",
        "            if(i not in patlist):\n",
        "                patlist.append(i)\n",
        "    j=0\n",
        "    dict = {}\n",
        "    for i in patlist:\n",
        "        while(j<str_len):\n",
        "            dict[i]=stringlst[j]\n",
        "            j+=1\n",
        "            break\n",
        "    result=[]\n",
        "    for i in pattern:\n",
        "        if(i in dict.keys()):\n",
        "            result.append(dict[i])\n",
        "    if(result==stringlst):\n",
        "        return True\n",
        "    else:\n",
        "        return False\n",
        "def cmp():\n",
        " str=\"python code python code\"\n",
        " print(\"To match with:\",str)\n",
        " pattern=input(\"Enter a pattern: \")\n",
        " if(pattern_match(str,pattern,len(str),len(pattern))):\n",
        "    return True\n",
        " else:\n",
        "    return False\n",
        "cmp()"
      ],
      "metadata": {
        "colab": {
          "base_uri": "https://localhost:8080/"
        },
        "id": "7aQuHXzuCo-M",
        "outputId": "a01022d1-1db0-4f35-a243-9cfe04abb87a"
      },
      "execution_count": 13,
      "outputs": [
        {
          "name": "stdout",
          "output_type": "stream",
          "text": [
            "To match with: python code python code\n",
            "Enter a pattern: abab\n"
          ]
        },
        {
          "output_type": "execute_result",
          "data": {
            "text/plain": [
              "True"
            ]
          },
          "metadata": {},
          "execution_count": 13
        }
      ]
    }
  ]
}