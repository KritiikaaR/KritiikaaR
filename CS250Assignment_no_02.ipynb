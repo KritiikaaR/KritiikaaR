{
  "nbformat": 4,
  "nbformat_minor": 0,
  "metadata": {
    "colab": {
      "provenance": [],
      "collapsed_sections": [],
      "authorship_tag": "ABX9TyN1bhvv9sGbwr+3gnLQnsDY",
      "include_colab_link": true
    },
    "kernelspec": {
      "name": "python3",
      "display_name": "Python 3"
    },
    "language_info": {
      "name": "python"
    }
  },
  "cells": [
    {
      "cell_type": "markdown",
      "metadata": {
        "id": "view-in-github",
        "colab_type": "text"
      },
      "source": [
        "<a href=\"https://colab.research.google.com/github/KritiikaaR/KritiikaaR/blob/main/CS250Assignment_no_02.ipynb\" target=\"_parent\"><img src=\"https://colab.research.google.com/assets/colab-badge.svg\" alt=\"Open In Colab\"/></a>"
      ]
    },
    {
      "cell_type": "code",
      "execution_count": 10,
      "metadata": {
        "colab": {
          "base_uri": "https://localhost:8080/"
        },
        "id": "1b5tS7TTEqYs",
        "outputId": "2d7439cf-1961-45a6-877a-d4954ab6883c"
      },
      "outputs": [
        {
          "output_type": "stream",
          "name": "stdout",
          "text": [
            "Enter first number:1011\n",
            "Enter second number: 10\n",
            "1101\n"
          ]
        }
      ],
      "source": [
        "#Answer of no.3\n",
        "a=input(\"Enter first number:\")\n",
        "b=input(\"Enter second number: \")\n",
        "def add_binary(a,b):\n",
        "  s=int(a,2)+int(b,2)     #int(x,base)\n",
        "\n",
        "  sum=bin(s)              #converts \"s\" into binary\n",
        "\n",
        "  print(sum[2:])          #if [2:] is not used, it shows \"0b\" in front of result\n",
        "                          #which denotes that the number is binary.\n",
        "add_binary(a,b)\n"
      ]
    },
    {
      "cell_type": "code",
      "source": [
        "#Answer of no.2\n",
        "lst=[4,2,5,6]\n",
        "def combine(lst):\n",
        "  com=\"\".join([str(i) for i in lst])      #join all elements in list\n",
        "  value=int(com)+1                        #add one to number\n",
        "  newlst=[int(x) for x in str(value)]     #add the required number to new list\n",
        "  return newlst\n",
        "combine(lst)"
      ],
      "metadata": {
        "colab": {
          "base_uri": "https://localhost:8080/"
        },
        "id": "wwZMnLbkXBS5",
        "outputId": "dad3b760-2e52-4ecc-cb3c-14f44f3bd8db"
      },
      "execution_count": 88,
      "outputs": [
        {
          "output_type": "execute_result",
          "data": {
            "text/plain": [
              "[4, 2, 5, 7]"
            ]
          },
          "metadata": {},
          "execution_count": 88
        }
      ]
    },
    {
      "cell_type": "code",
      "source": [
        "#Answer of no.1\n",
        "text=input(\"Enter a text: \")\n",
        "key=int(input(\"Enter the key: \"))\n",
        "for ch in text:\n",
        "  ch=ord(ch)                #returns the ordinal number of each character\n",
        "  res=ch+key                #each character is shifted with respect to key\n",
        "  finalres=chr(res)         #ordinal number is converted back to character\n",
        "  print(finalres,end=\"\")"
      ],
      "metadata": {
        "colab": {
          "base_uri": "https://localhost:8080/"
        },
        "id": "XdBEP7sohSwu",
        "outputId": "2c1dc078-3f1b-467a-bf3a-1861d89af937"
      },
      "execution_count": 62,
      "outputs": [
        {
          "output_type": "stream",
          "name": "stdout",
          "text": [
            "Enter a text: sourpuss\n",
            "Enter the key: 2\n",
            "uqwtrwuu"
          ]
        }
      ]
    },
    {
      "cell_type": "code",
      "source": [
        "#Answer of no.4\n",
        "import math\n",
        "n=eval(input(\"Enter a number: \"))\n",
        "def divisor_sum(num):            #function to sum proper divisors\n",
        "    sum = 0\n",
        "    for i in range(1,num):\n",
        "        if(num%i==0):\n",
        "            sum=sum+i\n",
        "    return sum\n",
        "def value(count):\n",
        "  total = 0\n",
        "  for i in range(1,count):\n",
        "        s = divisor_sum(int(i))     #s=function call for i\n",
        "        a = divisor_sum(s)          #a=function call for s\n",
        "        if (i == a and s != a):     #comparison if number is amicable\n",
        "            if(i > n):\n",
        "                print(i)\n",
        "                total= i\n",
        "                return i\n",
        "                break    \n",
        "  if(total == 0):\n",
        "    value(count*2)\n",
        "def amc(n):\n",
        "    result = value(2000) \n",
        "amc(n)"
      ],
      "metadata": {
        "colab": {
          "base_uri": "https://localhost:8080/"
        },
        "id": "WRQ6pKH9lJsK",
        "outputId": "0011c781-2a3d-46f7-eeae-fa7faa7c8810"
      },
      "execution_count": 104,
      "outputs": [
        {
          "output_type": "stream",
          "name": "stdout",
          "text": [
            "Enter a number: 5\n",
            "220\n"
          ]
        }
      ]
    }
  ]
}