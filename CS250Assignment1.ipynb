{
  "nbformat": 4,
  "nbformat_minor": 0,
  "metadata": {
    "colab": {
      "provenance": [],
      "collapsed_sections": [],
      "authorship_tag": "ABX9TyPsEb8oOtJmhK2dxlcNgykC",
      "include_colab_link": true
    },
    "kernelspec": {
      "name": "python3",
      "display_name": "Python 3"
    },
    "language_info": {
      "name": "python"
    }
  },
  "cells": [
    {
      "cell_type": "markdown",
      "metadata": {
        "id": "view-in-github",
        "colab_type": "text"
      },
      "source": [
        "<a href=\"https://colab.research.google.com/github/KritiikaaR/KritiikaaR/blob/main/CS250Assignment1.ipynb\" target=\"_parent\"><img src=\"https://colab.research.google.com/assets/colab-badge.svg\" alt=\"Open In Colab\"/></a>"
      ]
    },
    {
      "cell_type": "code",
      "execution_count": null,
      "metadata": {
        "colab": {
          "base_uri": "https://localhost:8080/"
        },
        "id": "fL51T8IcmiG4",
        "outputId": "ab1f7b4e-6ac2-4647-f76a-276abd22006f"
      },
      "outputs": [
        {
          "name": "stdout",
          "output_type": "stream",
          "text": [
            "Give input:121\n"
          ]
        },
        {
          "output_type": "execute_result",
          "data": {
            "text/plain": [
              "True"
            ]
          },
          "metadata": {},
          "execution_count": 6
        }
      ],
      "source": [
        "#Answer of no.3\n",
        "n=input(\"Give input:\")\n",
        "def palindrome(n):\n",
        " if (n==n[::-1]):\n",
        "  return True\n",
        " else:\n",
        "  return False\n",
        "palindrome(n)\n"
      ]
    },
    {
      "cell_type": "code",
      "source": [
        "#Answer of no.1\n",
        "n=input(\"Give input:\")\n",
        "def reverse(n):\n",
        "  result=n.split(\" \")\n",
        "  for char in result: \n",
        "   char=char[::-1]\n",
        "   result=\"\".join(char)\n",
        "   print(result, end=\" \")\n",
        "reverse(n)"
      ],
      "metadata": {
        "colab": {
          "base_uri": "https://localhost:8080/"
        },
        "id": "QoDXipf6-ZHf",
        "outputId": "2bd65fc4-ad9c-45f0-b766-512c797b66a2"
      },
      "execution_count": null,
      "outputs": [
        {
          "output_type": "stream",
          "name": "stdout",
          "text": [
            "Give input:Hello Python\n",
            "olleH nohtyP "
          ]
        }
      ]
    },
    {
      "cell_type": "code",
      "source": [
        "#Answer of no.5\n",
        "import math\n",
        "num = int(input(\"Enter the number of terms: \"))\n",
        "pi = 0\n",
        "for i in range(num):\n",
        " value = ((-1) ** i) * (4 / (2 * i + 1))\n",
        " pi += value\n",
        "print(\"Calculated pi value: =\", pi)\n",
        "print(\"actual value of pi: =\", math.pi)\n",
        "print(\"difference is: =\", math.pi - pi)"
      ],
      "metadata": {
        "colab": {
          "base_uri": "https://localhost:8080/"
        },
        "id": "-iuwMGqGEx8z",
        "outputId": "54a6d2a9-348a-403e-fce9-61343fbc0fa6"
      },
      "execution_count": 3,
      "outputs": [
        {
          "output_type": "stream",
          "name": "stdout",
          "text": [
            "Enter the number of terms: 6\n",
            "Calculated pi value: = 2.9760461760461765\n",
            "actual value of pi: = 3.141592653589793\n",
            "difference is: = 0.16554647754361662\n"
          ]
        }
      ]
    },
    {
      "cell_type": "code",
      "source": [
        "#Answer of no.2\n",
        "class result(object):\n",
        "  def Sum(self, n, target):\n",
        "   answer = [] \n",
        "   for i in range(len(n) - 1): \n",
        "    for j in range(i+1,len(n)):\n",
        "                a = n[i] + n[j]\n",
        "                if a == target:\n",
        "                    answer.append((i, j)) \n",
        "   return answer\n",
        "print(result().Sum([1,2,3,4], 7))"
      ],
      "metadata": {
        "colab": {
          "base_uri": "https://localhost:8080/"
        },
        "id": "eUH0CQ_g7b9z",
        "outputId": "f1284cda-6c05-49ff-9174-f217952f07c4"
      },
      "execution_count": null,
      "outputs": [
        {
          "output_type": "stream",
          "name": "stdout",
          "text": [
            "[(2, 3)]\n"
          ]
        }
      ]
    },
    {
      "cell_type": "code",
      "source": [
        "#Answer of no.4\n",
        "def commonprefix():\n",
        " str = ['michael','michelle','mitch']\n",
        " str = sorted(str)\n",
        " a=str[0]\n",
        " pref=\"\"\n",
        " for i in range(len(a)):\n",
        "    if str[len(str)-1][i] == a[i]:\n",
        "       pref = pref + str[len(str)-1][i]\n",
        "    else:\n",
        "       break\n",
        " print(pref)\n",
        "commonprefix()"
      ],
      "metadata": {
        "colab": {
          "base_uri": "https://localhost:8080/"
        },
        "id": "b4pQeaMQFnwn",
        "outputId": "b2aa2d67-d7df-4eb4-cbdc-4313349a0e6a"
      },
      "execution_count": 2,
      "outputs": [
        {
          "output_type": "stream",
          "name": "stdout",
          "text": [
            "mi\n"
          ]
        }
      ]
    },
    {
      "cell_type": "code",
      "source": [
        "#Answer of no.6\n",
        "import math\n",
        "def newton_method(x,step):\n",
        "    j=1\n",
        "    g = x/2\n",
        "    while j <= step:\n",
        "        g = (g + (x/g)) / 2\n",
        "        j+=1\n",
        "    return g\n",
        "answer = newton_method(36, 6)\n",
        "print (answer,'\\nDifference with square root : ', answer - (math.sqrt(34)))\n",
        "\n"
      ],
      "metadata": {
        "colab": {
          "base_uri": "https://localhost:8080/"
        },
        "id": "RqGLy5LA59PL",
        "outputId": "3c1cc934-3b60-436b-b619-8e497b782abb"
      },
      "execution_count": 4,
      "outputs": [
        {
          "output_type": "stream",
          "name": "stdout",
          "text": [
            "6.0 \n",
            "Difference with square root :  0.16904810515469926\n"
          ]
        }
      ]
    }
  ]
}