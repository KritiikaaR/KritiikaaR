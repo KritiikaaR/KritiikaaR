{
  "nbformat": 4,
  "nbformat_minor": 0,
  "metadata": {
    "colab": {
      "provenance": [],
      "collapsed_sections": [],
      "authorship_tag": "ABX9TyPWl17yKJY4AqVVvdi8sUt/",
      "include_colab_link": true
    },
    "kernelspec": {
      "name": "python3",
      "display_name": "Python 3"
    },
    "language_info": {
      "name": "python"
    }
  },
  "cells": [
    {
      "cell_type": "markdown",
      "metadata": {
        "id": "view-in-github",
        "colab_type": "text"
      },
      "source": [
        "<a href=\"https://colab.research.google.com/github/KritiikaaR/KritiikaaR/blob/main/Labassignment4.ipynb\" target=\"_parent\"><img src=\"https://colab.research.google.com/assets/colab-badge.svg\" alt=\"Open In Colab\"/></a>"
      ]
    },
    {
      "cell_type": "code",
      "source": [
        "#Answer of no.1\n",
        "n=eval(input(\"Enter a number: \"))\n",
        "def funnybuzz():\n",
        " i=1\n",
        " while i<=n: \n",
        "   if i%4!=0 and i%6!=0:\n",
        "     print(i)\n",
        "     i=i+1\n",
        "   elif i%4==0:\n",
        "     print(\"funny\")\n",
        "     i=i+1\n",
        "   elif i%6==0:\n",
        "     print(\"buzz\")\n",
        "     i=i+1\n",
        "   if i%4==0 and i%6==0:\n",
        "     print(\"funnybuzz\")\n",
        "     i=i+1\n",
        "funnybuzz()"
      ],
      "metadata": {
        "colab": {
          "base_uri": "https://localhost:8080/"
        },
        "id": "QaPT7_ah3eCZ",
        "outputId": "c874c8d4-1ba6-4b65-857a-72d40ded0510"
      },
      "execution_count": null,
      "outputs": [
        {
          "output_type": "stream",
          "name": "stdout",
          "text": [
            "Enter a number: 16\n",
            "1\n",
            "2\n",
            "3\n",
            "funny\n",
            "5\n",
            "buzz\n",
            "7\n",
            "funny\n",
            "9\n",
            "10\n",
            "11\n",
            "funnybuzz\n",
            "13\n",
            "14\n",
            "15\n",
            "funny\n"
          ]
        }
      ]
    },
    {
      "cell_type": "code",
      "source": [
        "#Answer of no.2\n",
        "m=eval(input(\"Enter a number:\"))\n",
        "n=eval(input(\"Enter a number:\"))\n",
        "limit=eval(input(\"Enter a number:\"))\n",
        "def multiples_sum(m,n,limit):\n",
        " sum=0\n",
        " for i in range(0,limit):\n",
        "   if(i%m==0) or (i%n==0):\n",
        "     sum=sum+i\n",
        " print(sum)\n",
        "multiples_sum(m,n,limit)"
      ],
      "metadata": {
        "colab": {
          "base_uri": "https://localhost:8080/"
        },
        "id": "N6zSILFAYfLn",
        "outputId": "5a17fba8-5e09-46fc-872b-d7974ea11b9d"
      },
      "execution_count": null,
      "outputs": [
        {
          "output_type": "stream",
          "name": "stdout",
          "text": [
            "Enter a number:3\n",
            "Enter a number:5\n",
            "Enter a number:10\n",
            "23\n"
          ]
        }
      ]
    },
    {
      "cell_type": "code",
      "source": [
        "#Answer of no.3\n",
        "n=eval(input(\"Enter a number: \"))\n",
        "def hailstone(n):\n",
        "  while n!=1:\n",
        "    if n%2==0:\n",
        "      n=n/2\n",
        "      print(int(n))\n",
        "      if n==1:\n",
        "        break\n",
        "    if n%2!=0:\n",
        "      n=(n*3)+1\n",
        "      print(int(n))\n",
        "      if n==1:\n",
        "        break\n",
        "hailstone(n)"
      ],
      "metadata": {
        "colab": {
          "base_uri": "https://localhost:8080/"
        },
        "id": "ADlPebPoiQw-",
        "outputId": "8297716a-878b-4683-cf47-1d6a669e18e2"
      },
      "execution_count": null,
      "outputs": [
        {
          "output_type": "stream",
          "name": "stdout",
          "text": [
            "Enter a number: 10\n",
            "5\n",
            "16\n",
            "8\n",
            "4\n",
            "2\n",
            "1\n"
          ]
        }
      ]
    },
    {
      "cell_type": "code",
      "source": [
        "#Answer of no.5\n",
        "m=eval(input(\"Enter a number:\"))\n",
        "fac=[]\n",
        "for i in range(1,m+1):\n",
        "  if m%i==0:\n",
        "    fac.append(int(i))\n",
        "def check(m):\n",
        "    j=1 \n",
        "    n=fac[j-1] * fac[-j]\n",
        "    count=0\n",
        "    while n==m :\n",
        "     print(fac[j-1],\"*\",fac[-j],\"=\",n)\n",
        "     count=count+1 \n",
        "     j=j+1\n",
        "     if j>len(fac) or count>len(fac)/2 :\n",
        "       break\n",
        "    fac.remove(m)   \n",
        "    if sum(fac)>m:\n",
        "     return True\n",
        "    else:\n",
        "     return False\n",
        "check(m)"
      ],
      "metadata": {
        "colab": {
          "base_uri": "https://localhost:8080/"
        },
        "id": "UVP5RqS3kKDm",
        "outputId": "d587103e-d599-40ee-9fa0-521a0efb4c99"
      },
      "execution_count": null,
      "outputs": [
        {
          "output_type": "stream",
          "name": "stdout",
          "text": [
            "Enter a number:16\n",
            "1 * 16 = 16\n",
            "2 * 8 = 16\n",
            "4 * 4 = 16\n"
          ]
        },
        {
          "output_type": "execute_result",
          "data": {
            "text/plain": [
              "False"
            ]
          },
          "metadata": {},
          "execution_count": 7
        }
      ]
    },
    {
      "cell_type": "code",
      "source": [
        "##ANSWER OF 4\n",
        "n=eval(input('Tell us the number : '))\n",
        "def nearest(target):\n",
        "    if target > 1:\n",
        "        for j in range(1, round(target)):\n",
        "            if (2 ** j >= target):\n",
        "                if(abs((2 * j) - target) > abs((2 * (j-1)) - target)):\n",
        "                    return 2 ** (j-1)\n",
        "                else:\n",
        "                    return 2 ** j\n",
        "    else:\n",
        "        return 1\n",
        "print(nearest(n))"
      ],
      "metadata": {
        "colab": {
          "base_uri": "https://localhost:8080/"
        },
        "id": "fvnQN2Tlx7wq",
        "outputId": "701fad38-cc55-412d-b902-89645ca0c7a1"
      },
      "execution_count": 7,
      "outputs": [
        {
          "output_type": "stream",
          "name": "stdout",
          "text": [
            "Tell us the number : 2016\n",
            "2048\n"
          ]
        }
      ]
    }
  ]
}