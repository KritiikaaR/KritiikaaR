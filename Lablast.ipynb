{
  "nbformat": 4,
  "nbformat_minor": 0,
  "metadata": {
    "colab": {
      "provenance": [],
      "authorship_tag": "ABX9TyPx4HFnKwxr5ssi16DzNz1l",
      "include_colab_link": true
    },
    "kernelspec": {
      "name": "python3",
      "display_name": "Python 3"
    },
    "language_info": {
      "name": "python"
    }
  },
  "cells": [
    {
      "cell_type": "markdown",
      "metadata": {
        "id": "view-in-github",
        "colab_type": "text"
      },
      "source": [
        "<a href=\"https://colab.research.google.com/github/KritiikaaR/KritiikaaR/blob/main/Lablast.ipynb\" target=\"_parent\"><img src=\"https://colab.research.google.com/assets/colab-badge.svg\" alt=\"Open In Colab\"/></a>"
      ]
    },
    {
      "cell_type": "code",
      "execution_count": 2,
      "metadata": {
        "colab": {
          "base_uri": "https://localhost:8080/"
        },
        "id": "TxEerLYjhywY",
        "outputId": "645fe809-5e6a-4825-ab56-dd489cd990a6"
      },
      "outputs": [
        {
          "output_type": "stream",
          "name": "stdout",
          "text": [
            "Machine is out of stock\n",
            "You must deposit $ 10  more\n",
            "This item:  crab stock: 2\n",
            "You must deposit $ 10  more\n",
            "Your current balance is: 7\n",
            "You must deposit $ 3  more\n",
            "Your current balance is: 12\n",
            "Here is your  crab  and money 2  change\n",
            "You must deposit $ 10  more\n"
          ]
        }
      ],
      "source": [
        "#Answer of no:1\n",
        "class VendingMachine(object):\n",
        "  def __init__(self,goods, val):\n",
        "   self.goods = goods\n",
        "   self.val = val\n",
        "   self.stock = 0\n",
        "   self.balance = 0\n",
        "\n",
        "  def deposit(self, money):\n",
        "   if self.stock == 0:\n",
        "    print(\"Machine is out of stock.Please collect your money: \", money)\n",
        "   else:\n",
        "    self.balance = self.balance + money\n",
        "    print(\"Your current balance is:\",self.balance)\n",
        "\n",
        "  def restock(self,quantity):\n",
        "   self.stock = self.stock + quantity\n",
        "   print(\"This item: \" , self.goods , \"stock:\" , self.stock)\n",
        "\n",
        "  def vend(self):\n",
        "   if self.stock == 0:\n",
        "    print(\"Machine is out of stock\")\n",
        "   if self.balance == self.val:\n",
        "     print(\"Here is your item!\",self.goods)\n",
        "     self.stock=self.stock-1\n",
        "     self.balance=0\n",
        "   elif self.balance > self.val:\n",
        "      self.balance=self.balance-self.val\n",
        "      print(\"Here is your \" ,self.goods,\" and money\" ,self.balance ,\" change\")\n",
        "      self.balance=0\n",
        "      self.stock=self.stock-1\n",
        "   else:\n",
        "    print(\"You must deposit $\",self.val - self.balance,\" more\")\n",
        "\n",
        "v = VendingMachine(\"crab\",10)\n",
        "v.vend()\n",
        "v.restock(2)\n",
        "v.vend()\n",
        "v.deposit(7)\n",
        "v.vend()\n",
        "v.deposit(5)\n",
        "v.vend()\n",
        "v.vend()\n"
      ]
    }
  ]
}