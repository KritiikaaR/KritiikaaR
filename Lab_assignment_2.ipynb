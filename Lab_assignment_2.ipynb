{
  "nbformat": 4,
  "nbformat_minor": 0,
  "metadata": {
    "colab": {
      "provenance": [],
      "collapsed_sections": [],
      "authorship_tag": "ABX9TyM6rTZ5HQlChjXKBFC7PRmA",
      "include_colab_link": true
    },
    "kernelspec": {
      "name": "python3",
      "display_name": "Python 3"
    },
    "language_info": {
      "name": "python"
    }
  },
  "cells": [
    {
      "cell_type": "markdown",
      "metadata": {
        "id": "view-in-github",
        "colab_type": "text"
      },
      "source": [
        "<a href=\"https://colab.research.google.com/github/KritiikaaR/KritiikaaR/blob/main/Lab_assignment_2.ipynb\" target=\"_parent\"><img src=\"https://colab.research.google.com/assets/colab-badge.svg\" alt=\"Open In Colab\"/></a>"
      ]
    },
    {
      "cell_type": "code",
      "execution_count": 49,
      "metadata": {
        "colab": {
          "base_uri": "https://localhost:8080/"
        },
        "id": "cIPhA7VewZva",
        "outputId": "430fe727-e571-4f07-e5ff-fa9763b8c30c"
      },
      "outputs": [
        {
          "name": "stdout",
          "output_type": "stream",
          "text": [
            "Enter a number:6\n"
          ]
        },
        {
          "output_type": "execute_result",
          "data": {
            "text/plain": [
              "True"
            ]
          },
          "metadata": {},
          "execution_count": 49
        }
      ],
      "source": [
        "#Answer of no.1\n",
        "#to check if numeric input argument is even or odd.\n",
        "\n",
        "n=eval(input(\"Enter a number:\"))\n",
        "def check_even_odd(n):\n",
        " if (n%2==0):\n",
        "   return True\n",
        " else:\n",
        "   return False\n",
        "check_even_odd(n)"
      ]
    },
    {
      "cell_type": "code",
      "source": [
        "#Answer of no.2\n",
        "# if input is odd number, print all odd numbers less than it until 1;\n",
        "#otherwise, return nothing.\n",
        "\n",
        "n=eval(input(\"Enter a number:\"))\n",
        "for i in range(n):\n",
        "  if(n%2!=0):\n",
        "    n=n-2\n",
        "    print(n) \n",
        "    if (n==1):\n",
        "       break"
      ],
      "metadata": {
        "colab": {
          "base_uri": "https://localhost:8080/"
        },
        "id": "E2opuaS3xPw0",
        "outputId": "5c185af6-82c5-4745-ddc7-8dba1ece6a26"
      },
      "execution_count": 18,
      "outputs": [
        {
          "output_type": "stream",
          "name": "stdout",
          "text": [
            "Enter a number:9\n",
            "7\n",
            "5\n",
            "3\n",
            "1\n"
          ]
        }
      ]
    },
    {
      "cell_type": "code",
      "source": [
        "#Answer of no.3\n",
        "#add odd numbers less equal than numeric input parameter.\n",
        "\n",
        "n=eval(input(\"Enter a number:\"))\n",
        "def sum_odd(n):\n",
        " sum=0\n",
        " for i in range(n+1):\n",
        "  if (i%2!=0):\n",
        "    sum=sum+i\n",
        " print(sum)\n",
        "sum_odd(n) "
      ],
      "metadata": {
        "colab": {
          "base_uri": "https://localhost:8080/"
        },
        "id": "jtoSWCwr9j2R",
        "outputId": "151d4883-03e0-4a55-e4a8-88a1065193c5"
      },
      "execution_count": 27,
      "outputs": [
        {
          "output_type": "stream",
          "name": "stdout",
          "text": [
            "Enter a number:7\n",
            "16\n"
          ]
        }
      ]
    },
    {
      "cell_type": "code",
      "source": [
        "#Answer of no.4\n",
        "#add even numbers less equal than numeric input parameter together.\n",
        "\n",
        "n=eval(input(\"Enter a number:\"))\n",
        "def sum_odd(n):\n",
        " sum=0\n",
        " for i in range(n+1):\n",
        "  if (i%2==0):\n",
        "    sum=sum+i\n",
        " print(sum)\n",
        "sum_odd(n)"
      ],
      "metadata": {
        "colab": {
          "base_uri": "https://localhost:8080/"
        },
        "id": "13fjLHdMFUK5",
        "outputId": "8ef24282-7d1f-463c-89b9-7a36de402dff"
      },
      "execution_count": 28,
      "outputs": [
        {
          "output_type": "stream",
          "name": "stdout",
          "text": [
            "Enter a number:6\n",
            "12\n"
          ]
        }
      ]
    },
    {
      "cell_type": "code",
      "source": [
        "#Answer of no.5\n",
        "#to take a positive number n and if n is even, print all even numbers \n",
        "#less than n (including n) but if n is odd, print half of this odd number.\n",
        "\n",
        "n=eval(input(\"Enter a number:\"))\n",
        "def even_odd(n):\n",
        "  for i in range(n+1):\n",
        "   if(n%2==0):\n",
        "    print(n)\n",
        "    n=n-2 \n",
        "    if (n==0):\n",
        "     break\n",
        "\n",
        "   else:\n",
        "    print(n/2)\n",
        "even_odd(n)   "
      ],
      "metadata": {
        "colab": {
          "base_uri": "https://localhost:8080/"
        },
        "id": "a2xFGR-pGQyh",
        "outputId": "a61d5d66-dc3a-468d-e65a-08659459489f"
      },
      "execution_count": 6,
      "outputs": [
        {
          "output_type": "stream",
          "name": "stdout",
          "text": [
            "Enter a number:8\n",
            "8\n",
            "6\n",
            "4\n",
            "2\n"
          ]
        }
      ]
    },
    {
      "cell_type": "code",
      "source": [
        "#Answer of no.6\n",
        "#Take 3 inputs a, b, c, and return sum of square of two smallest number.\n",
        "\n",
        "a=eval(input(\"Enter a number\"))\n",
        "b=eval(input(\"Enter a number\"))\n",
        "c=eval(input(\"Enter a number\"))\n",
        "\n",
        "def foo(a,b,c):\n",
        "  if (a>b) and (a>c):\n",
        "    x=(b*b)+(c*c)\n",
        "    print(x)\n",
        "  elif(b>a) and (b>c):\n",
        "    y=(a*a)+(c*c)\n",
        "    print(y)\n",
        "  elif(c>a) and (c>b):\n",
        "    z=(a*a)+(b*b)\n",
        "    print(z)\n",
        "\n",
        "foo(a,b,c)"
      ],
      "metadata": {
        "colab": {
          "base_uri": "https://localhost:8080/"
        },
        "id": "SJL4unjUK1qU",
        "outputId": "50569d0a-bb13-4257-e336-81d3cace75e9"
      },
      "execution_count": 21,
      "outputs": [
        {
          "output_type": "stream",
          "name": "stdout",
          "text": [
            "Enter a number1\n",
            "Enter a number2\n",
            "Enter a number3\n",
            "5\n"
          ]
        }
      ]
    }
  ]
}