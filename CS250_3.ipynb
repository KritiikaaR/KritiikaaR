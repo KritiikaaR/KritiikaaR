{
  "nbformat": 4,
  "nbformat_minor": 0,
  "metadata": {
    "colab": {
      "provenance": [],
      "collapsed_sections": [],
      "authorship_tag": "ABX9TyMaPlbmDD/xsEbFDDtGzofV",
      "include_colab_link": true
    },
    "kernelspec": {
      "name": "python3",
      "display_name": "Python 3"
    },
    "language_info": {
      "name": "python"
    }
  },
  "cells": [
    {
      "cell_type": "markdown",
      "metadata": {
        "id": "view-in-github",
        "colab_type": "text"
      },
      "source": [
        "<a href=\"https://colab.research.google.com/github/KritiikaaR/KritiikaaR/blob/main/CS250_3.ipynb\" target=\"_parent\"><img src=\"https://colab.research.google.com/assets/colab-badge.svg\" alt=\"Open In Colab\"/></a>"
      ]
    },
    {
      "cell_type": "code",
      "execution_count": 37,
      "metadata": {
        "colab": {
          "base_uri": "https://localhost:8080/"
        },
        "id": "ObZeFSQ7PRjS",
        "outputId": "bf9158ea-b0b6-47f5-b564-6daa9c0ae5f0"
      },
      "outputs": [
        {
          "name": "stdout",
          "output_type": "stream",
          "text": [
            "Enter the number: 1\n",
            "Enter the value you would want to add: 5\n"
          ]
        },
        {
          "output_type": "execute_result",
          "data": {
            "text/plain": [
              "[1, 2, 4, 3, 1, 5, 5]"
            ]
          },
          "metadata": {},
          "execution_count": 37
        }
      ],
      "source": [
        "#Answer of no.3\n",
        "x=eval(input(\"Enter the number: \"))\n",
        "el=eval(input(\"Enter the value you would want to add: \"))\n",
        "lst=[1,2,4,3,1]\n",
        "def add_this_many(x,el,lst):\n",
        "  for element in lst:           #check every element in list\n",
        "    if element==x:              \n",
        "     count=lst.count(element)   #counts the repitition of 'x' in list \n",
        "  i=1\n",
        "  while i<=count:               #loop from 1 to count\n",
        "    lst.append(el)              #adds 'el' no. of times 'x' occurs in list\n",
        "    i=i+1\n",
        "  return(lst)\n",
        "add_this_many(x,el,lst)"
      ]
    },
    {
      "cell_type": "code",
      "source": [
        "#Answer of no.1\n",
        "def fac(n):\n",
        "  result=1\n",
        "  for i in range(1, n+1):         \n",
        "    result=result*i            #stores factorial of number n\n",
        "  return result\n",
        "def approx_e(iter):\n",
        "  lst=[]\n",
        "  for i in range(0, iter):    #loop from 0 to iteration number\n",
        "    if i==0:\n",
        "      lst.append(1)  \n",
        "      continue\n",
        "    lst.append(1/fac(i))      #implementing the formula and adding to list\n",
        "  print(sum(lst))             #printing the sum\n",
        "approx_e(100)"
      ],
      "metadata": {
        "colab": {
          "base_uri": "https://localhost:8080/"
        },
        "id": "vsoZmHlGRvlz",
        "outputId": "7ad9badf-e9cb-42a5-e04b-928eab510169"
      },
      "execution_count": 1,
      "outputs": [
        {
          "output_type": "stream",
          "name": "stdout",
          "text": [
            "2.7182818284590455\n"
          ]
        }
      ]
    },
    {
      "cell_type": "code",
      "source": [
        "#Answer of no.2\n",
        "from math import sqrt\n",
        "seq=[49,8,2,1,102]\n",
        "new_lst=[]\n",
        "def squares(seq):\n",
        "  for element in seq:\n",
        "      #calculate integer value of square root of each element of list:\n",
        "    sqr_root=int(sqrt(element)) \n",
        "      #check if that value^2 is equal to element again,if yes, add to new list\n",
        "    if (sqr_root*sqr_root==element):\n",
        "      new_lst.append(element)  #add only perfect squares to new list\n",
        "  return(new_lst)\n",
        "squares(seq)"
      ],
      "metadata": {
        "colab": {
          "base_uri": "https://localhost:8080/"
        },
        "id": "j7xPWRbqVaE0",
        "outputId": "e510d387-5d88-4eb8-c421-42c98b78e5ed"
      },
      "execution_count": 40,
      "outputs": [
        {
          "output_type": "execute_result",
          "data": {
            "text/plain": [
              "[49, 1]"
            ]
          },
          "metadata": {},
          "execution_count": 40
        }
      ]
    }
  ]
}