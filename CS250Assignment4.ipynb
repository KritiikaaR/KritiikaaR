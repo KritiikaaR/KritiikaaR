{
  "nbformat": 4,
  "nbformat_minor": 0,
  "metadata": {
    "colab": {
      "provenance": [],
      "authorship_tag": "ABX9TyOUo5yEzMuYh4SSg8946bX1",
      "include_colab_link": true
    },
    "kernelspec": {
      "name": "python3",
      "display_name": "Python 3"
    },
    "language_info": {
      "name": "python"
    }
  },
  "cells": [
    {
      "cell_type": "markdown",
      "metadata": {
        "id": "view-in-github",
        "colab_type": "text"
      },
      "source": [
        "<a href=\"https://colab.research.google.com/github/KritiikaaR/KritiikaaR/blob/main/CS250Assignment4.ipynb\" target=\"_parent\"><img src=\"https://colab.research.google.com/assets/colab-badge.svg\" alt=\"Open In Colab\"/></a>"
      ]
    },
    {
      "cell_type": "code",
      "execution_count": null,
      "metadata": {
        "colab": {
          "base_uri": "https://localhost:8080/"
        },
        "id": "kNmor9RRmyr6",
        "outputId": "91d82e20-28a1-45f2-d42c-bd3f2f562555"
      },
      "outputs": [
        {
          "output_type": "execute_result",
          "data": {
            "text/plain": [
              "80"
            ]
          },
          "metadata": {},
          "execution_count": 38
        }
      ],
      "source": [
        "#Answer of no:1\n",
        "def max_product():\n",
        "  lst=[10,5,3,2,8,7]\n",
        "  lst.sort()             #sorting list so that greater numbers go to last\n",
        "  return(lst[len(lst)-1]*lst[len(lst)-2]) #multiplying last two greatest numbers\n",
        "max_product()"
      ]
    },
    {
      "cell_type": "code",
      "source": [
        "#Answer of no:2\n",
        "def coords(fn, seq, lower, upper):\n",
        " return [[x, fn(x)] for x in seq if lower <= fn(x) <= upper]\n",
        "print(coords(lambda x: x**2,[-4, -2, 0, 1, 3],1,9))"
      ],
      "metadata": {
        "colab": {
          "base_uri": "https://localhost:8080/"
        },
        "id": "8dcP5xF1wt1G",
        "outputId": "1e338bcf-cb27-414c-831d-b6ba7f98bc9d"
      },
      "execution_count": 80,
      "outputs": [
        {
          "output_type": "stream",
          "name": "stdout",
          "text": [
            "[[-2, 4], [1, 1], [3, 9]]\n"
          ]
        }
      ]
    },
    {
      "cell_type": "code",
      "source": [
        "#Answer of no:3\n",
        "def sort():\n",
        "  lst=[-4, 1, -2, 0, 3]\n",
        "  newlst=[]\n",
        "  while lst:    #loop till lst\n",
        "    first_mem=lst[0]  #first take first member of list \n",
        "    for value in lst: #iterate all values from lst\n",
        "      if value < first_mem:  #if value in list is less than first member\n",
        "        first_mem=value      #change first_mem value to that value\n",
        "    newlst.append(first_mem) #add that value to newlist\n",
        "    lst.remove(first_mem)  #remove that value from previous list\n",
        "  return newlst  #newlist contains numbers in ascending order\n",
        "sort()"
      ],
      "metadata": {
        "colab": {
          "base_uri": "https://localhost:8080/"
        },
        "id": "Nlrh5uI6zCex",
        "outputId": "86206f97-e861-48fe-e289-1aba5e33430b"
      },
      "execution_count": 7,
      "outputs": [
        {
          "output_type": "execute_result",
          "data": {
            "text/plain": [
              "[-4, -2, 0, 1, 3]"
            ]
          },
          "metadata": {},
          "execution_count": 7
        }
      ]
    },
    {
      "cell_type": "code",
      "source": [
        "#Answer of no:4\n",
        "def chk_elm(lst,n):\n",
        " for i in lst:\n",
        "  if n==i:\n",
        "    return True\n",
        "  else:\n",
        "    return False\n",
        "chk_elm([ [1,[2]], 3, [ [4], [5,[6]] ] ] , 8 )"
      ],
      "metadata": {
        "colab": {
          "base_uri": "https://localhost:8080/"
        },
        "id": "3dMToCWOw6Pf",
        "outputId": "735f8a09-dc67-4d31-f948-61a1e986a3fc"
      },
      "execution_count": 81,
      "outputs": [
        {
          "output_type": "execute_result",
          "data": {
            "text/plain": [
              "False"
            ]
          },
          "metadata": {},
          "execution_count": 81
        }
      ]
    }
  ]
}