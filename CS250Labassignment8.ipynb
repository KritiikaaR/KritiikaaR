{
  "nbformat": 4,
  "nbformat_minor": 0,
  "metadata": {
    "colab": {
      "provenance": [],
      "collapsed_sections": [],
      "authorship_tag": "ABX9TyPDEMDQeha7FmtFk9iSKIhr",
      "include_colab_link": true
    },
    "kernelspec": {
      "name": "python3",
      "display_name": "Python 3"
    },
    "language_info": {
      "name": "python"
    }
  },
  "cells": [
    {
      "cell_type": "markdown",
      "metadata": {
        "id": "view-in-github",
        "colab_type": "text"
      },
      "source": [
        "<a href=\"https://colab.research.google.com/github/KritiikaaR/KritiikaaR/blob/main/CS250Labassignment8.ipynb\" target=\"_parent\"><img src=\"https://colab.research.google.com/assets/colab-badge.svg\" alt=\"Open In Colab\"/></a>"
      ]
    },
    {
      "cell_type": "code",
      "execution_count": 8,
      "metadata": {
        "colab": {
          "base_uri": "https://localhost:8080/"
        },
        "id": "Rhndr477mJpg",
        "outputId": "3422c414-b5b1-4944-f840-695330aaa421"
      },
      "outputs": [
        {
          "output_type": "stream",
          "name": "stdout",
          "text": [
            "Enter the radius?10\n",
            "Radius of sphere is 10\n",
            "Surface area of sphere is 1256.0\n",
            "Volume of sphere is 4186.666666666667\n"
          ]
        }
      ],
      "source": [
        "#Answer of no.1\n",
        "class spheres:\n",
        "  def __init__(self,radius):  #constructor init\n",
        "    self.radius=radius\n",
        "    \n",
        "  def getRadius(self):\n",
        "    print(\"Radius of sphere is\",self.radius)  #prints the radius of sphere\n",
        "  \n",
        "  def surfaceArea(self):\n",
        "    self.surfaceArea=(4*3.14*(self.radius*self.radius))  \n",
        "    print(\"Surface area of sphere is\",self.surfaceArea) #prints surface area of sphere\n",
        "\n",
        "  def volume(self):\n",
        "    self.volume=(4/3)*(3.14)*(self.radius**3) \n",
        "    print(\"Volume of sphere is\",self.volume) #prints volume of sphere\n",
        "\n",
        "r=int(input(\"Enter the radius?\"))  #asks user for radius\n",
        "x=spheres(r)  #pass user input to class\n",
        "x.getRadius()    #function call\n",
        "x.surfaceArea()\n",
        "x.volume()"
      ]
    },
    {
      "cell_type": "code",
      "source": [
        "#Answer of no.2\n",
        "import random \n",
        "\n",
        "class cards:\n",
        "  def __init__(self,rank,suit):   #constructor init \n",
        "    self.rank=rank\n",
        "    self.dic_of_suits={\"d\":\"diamonds\", \"s\": \"spades\", \"h\":\"hearts\", \"c\":\"clubs\"} #creating a dictionary of suit values.\n",
        "    self.suit=suit\n",
        "  \n",
        "  def getRank(self): \n",
        "    print(\"Rank is:\",self.rank)  #returns rank of the card\n",
        "  \n",
        "  def getSuit(self):\n",
        "    print(\"Suit is:\",self.dic_of_suits[self.suit]) #returns suit value from dictionary\n",
        "\n",
        "  def value(self):          #defining value of face cards and Ace card\n",
        "    if self.rank==1:\n",
        "      return \"Ace\"\n",
        "    if self.rank==11:\n",
        "      return \"Jack\"\n",
        "    if self.rank==12:\n",
        "      return \"Queen\"\n",
        "    if self.rank==13:\n",
        "      return \"King\"\n",
        "    return self.rank     #if not face card,just return the value of rank \n",
        "\n",
        "  def __str__(self):\n",
        "   print(\"Your card is:\",self.value(),\"of\",self.dic_of_suits[self.suit])\n",
        "ch=['d','s','h','c']  #a list of keys defined in above dictionary\n",
        "y=random.choice(ch)   #returns random value from the list\n",
        "\n",
        "x=eval(input(\"Enter the number(1-13)? \"))   \n",
        "a=cards(x,y)    #pass user input \"x\" as rank and random choice y as suit\n",
        "a.__str__()     #function call\n"
      ],
      "metadata": {
        "id": "ifii5NLvVz1V",
        "colab": {
          "base_uri": "https://localhost:8080/"
        },
        "outputId": "8ef6f2a6-2981-41dc-9fa1-a28ab94ad296"
      },
      "execution_count": 33,
      "outputs": [
        {
          "output_type": "stream",
          "name": "stdout",
          "text": [
            "Enter the number(1-13)? 12\n",
            "Your card is: Queen of diamonds\n"
          ]
        }
      ]
    }
  ]
}