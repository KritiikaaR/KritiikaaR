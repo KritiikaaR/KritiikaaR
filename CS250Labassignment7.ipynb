{
  "nbformat": 4,
  "nbformat_minor": 0,
  "metadata": {
    "colab": {
      "provenance": [],
      "collapsed_sections": [],
      "authorship_tag": "ABX9TyPSsDHQ7mKlUd8cBs2DtYV7",
      "include_colab_link": true
    },
    "kernelspec": {
      "name": "python3",
      "display_name": "Python 3"
    },
    "language_info": {
      "name": "python"
    }
  },
  "cells": [
    {
      "cell_type": "markdown",
      "metadata": {
        "id": "view-in-github",
        "colab_type": "text"
      },
      "source": [
        "<a href=\"https://colab.research.google.com/github/KritiikaaR/KritiikaaR/blob/main/CS250Labassignment7.ipynb\" target=\"_parent\"><img src=\"https://colab.research.google.com/assets/colab-badge.svg\" alt=\"Open In Colab\"/></a>"
      ]
    },
    {
      "cell_type": "code",
      "execution_count": 23,
      "metadata": {
        "id": "AyNHSLMHna0M",
        "colab": {
          "base_uri": "https://localhost:8080/"
        },
        "outputId": "b1fde9d9-203b-42dd-e306-339c2d30b6a7"
      },
      "outputs": [
        {
          "output_type": "stream",
          "name": "stdout",
          "text": [
            "Enter the number of darts: 100000\n",
            "3.13592\n"
          ]
        }
      ],
      "source": [
        "#Answer of no.1\n",
        "import random\n",
        "def picalculate():\n",
        " n=eval(input(\"Enter the number of darts: \")) #n=total num of darts\n",
        " h=1                             #h=darts that hit circle,set 1st value to 1\n",
        " for i in range(n):            #loop till total num of darts\n",
        "   x=2*random.random()-1         #generates x-coordinate\n",
        "   y=2*random.random()-1         #generates y-coordinate\n",
        "   if((x**2)+(y**2))<1:          #if (x^2+y^2) < 1 ; dart falls in circle so:\n",
        "     h=h+1                       #increase value of h\n",
        "   else:\n",
        "     pass\n",
        " pi=4*(h/n)                      \n",
        " print(pi)                       #prints value of pi\n",
        "picalculate()                    #function call"
      ]
    },
    {
      "cell_type": "code",
      "source": [
        "#Answer of no.2\n",
        "import random\n",
        "n=eval(input('Enter how many random steps? '))  \n",
        "\n",
        "#initially,consider starting point 1\n",
        "initial_point=1 \n",
        "\n",
        "lst=[\"head\",\"tail\"]   \n",
        "\n",
        "# run loop till no.of steps \"n\"\n",
        "for i in range(n):   \n",
        "\n",
        "#if random choice in list comes head,increase step by 1\n",
        "   if random.choice(lst)==\"head\":  \n",
        "    initial_point+=1\n",
        "\n",
        "#if random choice in list comes tail,decrease step by 1\n",
        "   elif random.choice(lst)==\"tail\":\n",
        "    initial_point-=1\n",
        "\n",
        "   final_point=initial_point  #assign value to another variable just so it makes\n",
        "                              #sense\n",
        "\n",
        "#if final point is < 0, means you ended up behind the starting point.\n",
        "if final_point<0:\n",
        "  print(\"You went behind\",abs(final_point),\"steps from the original point.\")\n",
        "\n",
        "#if final point is > 0, means you ended up forward of the starting point.\n",
        "if final_point>0:\n",
        "  print(\"You went forward\",final_point,\"steps from the original point.\")\n",
        "\n",
        "#if final point=0,you ended up in the same point.\n",
        "if final_point==0:\n",
        "  print(\"You ended up in the same position.\")"
      ],
      "metadata": {
        "colab": {
          "base_uri": "https://localhost:8080/"
        },
        "id": "4SNfHKEfQ16p",
        "outputId": "203c2f58-4432-4865-f188-a7c72fe9888f"
      },
      "execution_count": 28,
      "outputs": [
        {
          "output_type": "stream",
          "name": "stdout",
          "text": [
            "Enter how many random steps? 33\n",
            "You went forward 8 steps from the original point.\n"
          ]
        }
      ]
    }
  ]
}