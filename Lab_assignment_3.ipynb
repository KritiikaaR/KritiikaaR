{
  "nbformat": 4,
  "nbformat_minor": 0,
  "metadata": {
    "colab": {
      "provenance": [],
      "collapsed_sections": [],
      "authorship_tag": "ABX9TyMwV06AHXOO5wjty0JNI+WD",
      "include_colab_link": true
    },
    "kernelspec": {
      "name": "python3",
      "display_name": "Python 3"
    },
    "language_info": {
      "name": "python"
    }
  },
  "cells": [
    {
      "cell_type": "markdown",
      "metadata": {
        "id": "view-in-github",
        "colab_type": "text"
      },
      "source": [
        "<a href=\"https://colab.research.google.com/github/KritiikaaR/KritiikaaR/blob/main/Lab_assignment_3.ipynb\" target=\"_parent\"><img src=\"https://colab.research.google.com/assets/colab-badge.svg\" alt=\"Open In Colab\"/></a>"
      ]
    },
    {
      "cell_type": "code",
      "execution_count": 1,
      "metadata": {
        "colab": {
          "base_uri": "https://localhost:8080/"
        },
        "id": "_bbztRSA4bxI",
        "outputId": "554c5c5b-0331-4870-ec7b-0f85d13e41da"
      },
      "outputs": [
        {
          "name": "stdout",
          "output_type": "stream",
          "text": [
            "Enter a number:2\n",
            "Enter a number:3\n",
            "Enter a number:2\n"
          ]
        },
        {
          "output_type": "execute_result",
          "data": {
            "text/plain": [
              "True"
            ]
          },
          "metadata": {},
          "execution_count": 1
        }
      ],
      "source": [
        "#Answer of no.1\n",
        "\n",
        "a=eval(input(\"Enter a number:\"))\n",
        "b=eval(input(\"Enter a number:\"))\n",
        "c=eval(input(\"Enter a number:\"))\n",
        "def is_equal(a,b,c):\n",
        " if (a==b) and (a!=c):\n",
        "  return True\n",
        " if (b==c) and (b!=a):\n",
        "  return True\n",
        " if (a==c) and (a!=b):\n",
        "  return True\n",
        " else:\n",
        "  return False\n",
        "\n",
        "is_equal(a,b,c)"
      ]
    },
    {
      "cell_type": "code",
      "source": [
        "#Answer of no.2\n",
        "x=eval(input(\"Enter a number:\"))\n",
        "y=eval(input(\"Enter a number:\"))\n",
        "z=eval(input(\"Enter a number:\"))\n",
        "def diff(x,y,z):\n",
        " if (x-y==z) or (y-x==z):\n",
        "   return True\n",
        " if (x-z==y) or (z-x==y):\n",
        "   return True\n",
        " if (y-z==x) or (z-y==x):\n",
        "   return True\n",
        " else:\n",
        "    return False\n",
        "diff(x,y,z)\n"
      ],
      "metadata": {
        "colab": {
          "base_uri": "https://localhost:8080/"
        },
        "id": "aVsMIkwY4pp-",
        "outputId": "5e7ad334-2338-45e0-a304-78a0d6d3f4d7"
      },
      "execution_count": 3,
      "outputs": [
        {
          "name": "stdout",
          "output_type": "stream",
          "text": [
            "Enter a number:10\n",
            "Enter a number:6\n",
            "Enter a number:4\n"
          ]
        },
        {
          "output_type": "execute_result",
          "data": {
            "text/plain": [
              "True"
            ]
          },
          "metadata": {},
          "execution_count": 3
        }
      ]
    },
    {
      "cell_type": "code",
      "source": [
        "#Answer of no.3\n",
        "a=eval(input(\"Enter a number:\"))\n",
        "b=eval(input(\"Enter a number:\"))\n",
        "def is_factor(a,b):\n",
        " while (a!=0 and b!=0):\n",
        "  if (b%a==0) or (a%b==0):\n",
        "   return True\n",
        " if(a==0) and (b==0):\n",
        "   return False\n",
        " else:\n",
        "   return False\n",
        "is_factor(a,b)"
      ],
      "metadata": {
        "colab": {
          "base_uri": "https://localhost:8080/"
        },
        "id": "VvV-j_084zx6",
        "outputId": "3deadf7a-77d5-4fc7-e771-1ce52c27c4be"
      },
      "execution_count": 5,
      "outputs": [
        {
          "name": "stdout",
          "output_type": "stream",
          "text": [
            "Enter a number:3\n",
            "Enter a number:6\n"
          ]
        },
        {
          "output_type": "execute_result",
          "data": {
            "text/plain": [
              "True"
            ]
          },
          "metadata": {},
          "execution_count": 5
        }
      ]
    },
    {
      "cell_type": "code",
      "source": [
        "#Answer of no.4\n",
        "n=eval(input(\"Enter a number:\"))\n",
        "print(\"The factors are: \")\n",
        "def factors(n):\n",
        " for i in range(n,0,-1):\n",
        "  if (n%i==0):\n",
        "    print(i)\n",
        "factors(n)"
      ],
      "metadata": {
        "colab": {
          "base_uri": "https://localhost:8080/"
        },
        "id": "TkuktYFf5AOT",
        "outputId": "66d8c277-2947-4173-b433-b984bebee994"
      },
      "execution_count": 6,
      "outputs": [
        {
          "output_type": "stream",
          "name": "stdout",
          "text": [
            "Enter a number:12\n",
            "The factors are: \n",
            "12\n",
            "6\n",
            "4\n",
            "3\n",
            "2\n",
            "1\n"
          ]
        }
      ]
    },
    {
      "cell_type": "code",
      "source": [
        "#Answer of no.5\n",
        "\n",
        "n=eval(input(\"Enter a number: \"))\n",
        "def lrgst_fact(n):\n",
        " for i in range(n-1,0,-1):\n",
        "  if(n%i==0):\n",
        "   return i \n",
        "lrgst_fact(n)"
      ],
      "metadata": {
        "colab": {
          "base_uri": "https://localhost:8080/"
        },
        "id": "cXO4zF6D5Eoh",
        "outputId": "3ee76b37-388a-4fa0-b9b3-d9ff1d36f110"
      },
      "execution_count": 7,
      "outputs": [
        {
          "name": "stdout",
          "output_type": "stream",
          "text": [
            "Enter a number: 80\n"
          ]
        },
        {
          "output_type": "execute_result",
          "data": {
            "text/plain": [
              "40"
            ]
          },
          "metadata": {},
          "execution_count": 7
        }
      ]
    }
  ]
}