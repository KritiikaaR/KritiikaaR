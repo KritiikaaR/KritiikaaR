{
  "nbformat": 4,
  "nbformat_minor": 0,
  "metadata": {
    "colab": {
      "provenance": [],
      "collapsed_sections": [],
      "authorship_tag": "ABX9TyP9asny+45dJ4CKLj6DhP36",
      "include_colab_link": true
    },
    "kernelspec": {
      "name": "python3",
      "display_name": "Python 3"
    },
    "language_info": {
      "name": "python"
    }
  },
  "cells": [
    {
      "cell_type": "markdown",
      "metadata": {
        "id": "view-in-github",
        "colab_type": "text"
      },
      "source": [
        "<a href=\"https://colab.research.google.com/github/KritiikaaR/KritiikaaR/blob/main/LabAssignment5.ipynb\" target=\"_parent\"><img src=\"https://colab.research.google.com/assets/colab-badge.svg\" alt=\"Open In Colab\"/></a>"
      ]
    },
    {
      "cell_type": "code",
      "execution_count": 59,
      "metadata": {
        "colab": {
          "base_uri": "https://localhost:8080/"
        },
        "id": "tW1uSNARDczi",
        "outputId": "ea111d83-afe2-463b-a32f-93f323f1613c"
      },
      "outputs": [
        {
          "output_type": "stream",
          "name": "stdout",
          "text": [
            "Enter a number: 20\n",
            "2\n",
            "3\n",
            "5\n",
            "7\n",
            "11\n",
            "13\n",
            "17\n",
            "19\n"
          ]
        }
      ],
      "source": [
        "#Answer of 1\n",
        "def is_prime(n):\n",
        "  if n==1 or n==0:\n",
        "    return False\n",
        "  for i in range(2,n):\n",
        "    if(n%i==0):\n",
        "      return False\n",
        "  return True\n",
        "n = eval(input(\"Enter a number: \"))\n",
        "for i in range(1,n+1):\n",
        "   if(is_prime(i)):\n",
        "    print(i)"
      ]
    },
    {
      "cell_type": "code",
      "source": [
        "#Answer of 2\n",
        "sentence=input(\"Enter a sentence: \")\n",
        "result=sentence.split(\" \")\n",
        "length=len(result)\n",
        "print(\"The number of words in the sentence is {}\".format(length)+\".\")"
      ],
      "metadata": {
        "colab": {
          "base_uri": "https://localhost:8080/"
        },
        "id": "fCDuVPp8UJ78",
        "outputId": "284174a5-af2b-4117-b31a-5a6499cd94a5"
      },
      "execution_count": 1,
      "outputs": [
        {
          "output_type": "stream",
          "name": "stdout",
          "text": [
            "Enter a sentence: I eat rice\n",
            "The number of words in the sentence is 3.\n"
          ]
        }
      ]
    },
    {
      "cell_type": "code",
      "source": [
        "#Answer of 3\n",
        "sentence=input('Enter a sentence: ')\n",
        "result=sentence.split(\" \")\n",
        "sum=0\n",
        "for words in result:\n",
        "  count=len(words)\n",
        "  sum=sum+count\n",
        "  avg=sum/len(result)\n",
        "print(\"The avg word length is\",avg)\n"
      ],
      "metadata": {
        "colab": {
          "base_uri": "https://localhost:8080/"
        },
        "id": "hOKtIDyvVGbS",
        "outputId": "6bab10f0-5cd8-413b-91fa-09ade795f50c"
      },
      "execution_count": 100,
      "outputs": [
        {
          "output_type": "stream",
          "name": "stdout",
          "text": [
            "Enter a sentence: i am rich\n",
            "The avg word length is 2.3333333333333335\n"
          ]
        }
      ]
    },
    {
      "cell_type": "code",
      "source": [
        "#Answer of 4\n",
        "n=eval(input(\"Enter n: \"))\n",
        "k=eval(input(\"Enter k: \"))\n",
        "d=(n-k)\n",
        "def choose(n,k):\n",
        " nfac=1\n",
        " kfac=1\n",
        " dfac=1\n",
        " for i in range(1,n+1):\n",
        "   nfac =nfac*i\n",
        " for j in range(1,k+1):\n",
        "   kfac=kfac*j\n",
        " for s in range(1,d+1):\n",
        "   dfac=dfac*s\n",
        " value=(nfac)//((kfac)*(dfac))\n",
        " return value\n",
        "choose(n,k)"
      ],
      "metadata": {
        "colab": {
          "base_uri": "https://localhost:8080/"
        },
        "id": "Q1gVXnzWYaPj",
        "outputId": "7bfd9e29-5f38-42da-ad93-fed938e88d00"
      },
      "execution_count": 10,
      "outputs": [
        {
          "name": "stdout",
          "output_type": "stream",
          "text": [
            "Enter n: 5\n",
            "Enter k: 2\n"
          ]
        },
        {
          "output_type": "execute_result",
          "data": {
            "text/plain": [
              "10"
            ]
          },
          "metadata": {},
          "execution_count": 10
        }
      ]
    },
    {
      "cell_type": "code",
      "source": [
        "#Answer of 5\n",
        "import math\n",
        "a=eval(input(\"Enter a number:\"))\n",
        "b=eval(input(\"Enter a number:\"))\n",
        "def multiple(a,b):\n",
        " res=math.gcd(a,b)\n",
        " lcm=(a*b)//res\n",
        " return lcm\n",
        "multiple(a,b)"
      ],
      "metadata": {
        "colab": {
          "base_uri": "https://localhost:8080/"
        },
        "id": "ZGYzIjRNsYxZ",
        "outputId": "45f14f39-282a-4c59-d4f4-0409c01ac064"
      },
      "execution_count": 8,
      "outputs": [
        {
          "name": "stdout",
          "output_type": "stream",
          "text": [
            "Enter a number:14\n",
            "Enter a number:21\n"
          ]
        },
        {
          "output_type": "execute_result",
          "data": {
            "text/plain": [
              "42"
            ]
          },
          "metadata": {},
          "execution_count": 8
        }
      ]
    }
  ]
}